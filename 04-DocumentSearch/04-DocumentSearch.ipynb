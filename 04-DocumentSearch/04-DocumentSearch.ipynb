{
 "cells": [
  {
   "cell_type": "markdown",
   "metadata": {},
   "source": [
    "# Document search\n",
    "In this exercise, you must implement a document search algorithm. The text file 'animals.txt' contains a number of small \"documents\" on different animals taken from Wikipedia. Each document also has a title, which is the name of the animal.\n",
    "\n",
    "$\\star$ You must implement an algorithm that allows you to search the documents using a search query. \n",
    "\n",
    "$\\star$ The algoritm must score each document and display the top-5 matching documents.\n",
    "\n",
    "$\\star$ Start by implementing the TF-IDF algorithm.\n",
    "\n",
    "$\\star$ Next, implement the Okapi BM 25 algorithm, and experiment with the parameters."
   ]
  },
  {
   "cell_type": "markdown",
   "metadata": {},
   "source": [
    "### Hint 1: Loading data\n",
    "The following code loads in the data from the plain text file animals.txt"
   ]
  },
  {
   "cell_type": "code",
   "execution_count": 1,
   "metadata": {},
   "outputs": [
    {
     "name": "stdout",
     "output_type": "stream",
     "text": [
      "Zebra\n",
      "--------------------------------------------------\n",
      "Zebras are several species of African equids (horse family) united by their distinctive black and white striped coats. Their stripes come in different patterns, unique to each individual. They are generally social animals that live in small harems to large herds. Unlike their closest relatives, horses and donkeys, zebras have never been truly domesticated. There are three species of zebras: the plains zebra, the mountain zebra and the Grévy's zebra. The plains zebra and the mountain zebra belong to the subgenus Hippotigris, but Grévy's zebra is the sole species of subgenus Dolichohippus. The latter resembles an ass, to which zebras are closely related, while the former two look more horse-like. All three belong to the genus Equus, along with other living equids. The unique stripes of zebras make them one of the animals most familiar to people. They occur in a variety of habitats, such as grasslands, savannas, woodlands, thorny scrublands, mountains, and coastal hills. However, various anthropogenic factors have had a severe impact on zebra populations, in particular hunting for skins and habitat destruction. Grévy's zebra and the mountain zebra are endangered. While plains zebras are much more plentiful, one subspecies, the quagga, became extinct in the late 19th century – though there is currently a plan, called the Quagga Project, that aims to breed zebras that are phenotypically similar to the quagga in a process called breeding back.\n"
     ]
    }
   ],
   "source": [
    "file = open('animals.txt'); \n",
    "lines = file.read().splitlines(); \n",
    "file.close()\n",
    "\n",
    "# Make two lists (title and text) which contain the title (name of animal) and text (description of animal) \n",
    "# for each entry in the text file\n",
    "title = lines[0::4]\n",
    "text = lines[2::4]\n",
    "\n",
    "# Display example data\n",
    "index = 4\n",
    "print(title[index])\n",
    "print('-'*50)\n",
    "print(text[index])"
   ]
  },
  {
   "cell_type": "markdown",
   "metadata": {},
   "source": [
    "### Hint 2: Tokenization and stemming\n",
    "You can use the tools in the Natural Language ToolKit (nltk) to perform tasks such as tokenization and stemming."
   ]
  },
  {
   "cell_type": "code",
   "execution_count": 2,
   "metadata": {},
   "outputs": [
    {
     "name": "stdout",
     "output_type": "stream",
     "text": [
      "['zebra', 'are', 'sever', 'speci', 'of', 'african', 'equid', '(', 'hors', 'famili', ')', 'unit', 'by', 'their', 'distinct', 'black', 'and', 'white', 'stripe', 'coat', '.', 'their', 'stripe', 'come', 'in', 'differ', 'pattern', ',', 'uniqu', 'to', 'each', 'individu', '.', 'they', 'are', 'gener', 'social', 'anim', 'that', 'live', 'in', 'small', 'harem', 'to', 'larg', 'herd', '.', 'unlik', 'their', 'closest', 'rel', ',', 'hors', 'and', 'donkey', ',', 'zebra', 'have', 'never', 'been', 'truli', 'domest', '.', 'there', 'are', 'three', 'speci', 'of', 'zebra', ':', 'the', 'plain', 'zebra', ',', 'the', 'mountain', 'zebra', 'and', 'the', 'grévi', \"'s\", 'zebra', '.', 'the', 'plain', 'zebra', 'and', 'the', 'mountain', 'zebra', 'belong', 'to', 'the', 'subgenu', 'hippotigri', ',', 'but', 'grévi', \"'s\", 'zebra', 'is', 'the', 'sole', 'speci', 'of', 'subgenu', 'dolichohippu', '.', 'the', 'latter', 'resembl', 'an', 'ass', ',', 'to', 'which', 'zebra', 'are', 'close', 'relat', ',', 'while', 'the', 'former', 'two', 'look', 'more', 'horse-lik', '.', 'all', 'three', 'belong', 'to', 'the', 'genu', 'equu', ',', 'along', 'with', 'other', 'live', 'equid', '.', 'the', 'uniqu', 'stripe', 'of', 'zebra', 'make', 'them', 'one', 'of', 'the', 'anim', 'most', 'familiar', 'to', 'peopl', '.', 'they', 'occur', 'in', 'a', 'varieti', 'of', 'habitat', ',', 'such', 'as', 'grassland', ',', 'savanna', ',', 'woodland', ',', 'thorni', 'scrubland', ',', 'mountain', ',', 'and', 'coastal', 'hill', '.', 'howev', ',', 'variou', 'anthropogen', 'factor', 'have', 'had', 'a', 'sever', 'impact', 'on', 'zebra', 'popul', ',', 'in', 'particular', 'hunt', 'for', 'skin', 'and', 'habitat', 'destruct', '.', 'grévi', \"'s\", 'zebra', 'and', 'the', 'mountain', 'zebra', 'are', 'endang', '.', 'while', 'plain', 'zebra', 'are', 'much', 'more', 'plenti', ',', 'one', 'subspeci', ',', 'the', 'quagga', ',', 'becam', 'extinct', 'in', 'the', 'late', '19th', 'centuri', '–', 'though', 'there', 'is', 'current', 'a', 'plan', ',', 'call', 'the', 'quagga', 'project', ',', 'that', 'aim', 'to', 'breed', 'zebra', 'that', 'are', 'phenotyp', 'similar', 'to', 'the', 'quagga', 'in', 'a', 'process', 'call', 'breed', 'back', '.']\n"
     ]
    }
   ],
   "source": [
    "import nltk\n",
    "from nltk.tokenize import word_tokenize\n",
    "#nltk.download('punkt')\n",
    "ps = nltk.stem.PorterStemmer()\n",
    "\n",
    "# Tokenize example data\n",
    "index = 4\n",
    "tokens = [ps.stem(_) for _ in word_tokenize(text[index])]\n",
    "print(tokens)"
   ]
  },
  {
   "cell_type": "markdown",
   "metadata": {},
   "source": [
    "### Hint 3: Counting occurences etc.\n",
    "You can use the .count() function to count word occurences"
   ]
  },
  {
   "cell_type": "code",
   "execution_count": 3,
   "metadata": {},
   "outputs": [
    {
     "name": "stdout",
     "output_type": "stream",
     "text": [
      "The word \"stripe\" occurs 3 times in the Zebra-document.\n",
      "The Zebra-document contains 270 words in total.\n"
     ]
    }
   ],
   "source": [
    "# Count occurences of search word in stemmed and tokenized text. Remember that we should also stem the query word\n",
    "query_word = ps.stem('stripes')\n",
    "index = 4\n",
    "tokens = [ps.stem(_) for _ in word_tokenize(text[index])]\n",
    "count = tokens.count(query_word)\n",
    "document_length = len(tokens)\n",
    "print('The word \"{}\" occurs {} times in the {}-document.'.format(query_word, count, title[index]))\n",
    "print('The {}-document contains {} words in total.'.format(title[index], document_length))"
   ]
  },
  {
   "cell_type": "markdown",
   "metadata": {},
   "source": [
    "### Hint 4: Scoring, ranking and displaying results\n",
    "The following code demonstrates how you can score, rank, and display the top-5 matches. For simplicity we here simply rank by the term frequency of a single query word"
   ]
  },
  {
   "cell_type": "code",
   "execution_count": 4,
   "metadata": {},
   "outputs": [
    {
     "name": "stdout",
     "output_type": "stream",
     "text": [
      "1. Zebra (TF=3)\n",
      "2. Tiger (TF=1)\n",
      "3. Badger (TF=1)\n",
      "4. Cat (TF=0)\n",
      "5. Pig (TF=0)\n"
     ]
    }
   ],
   "source": [
    "import numpy as np\n",
    "query_word = ps.stem('stripes')\n",
    "\n",
    "TF = np.repeat(0, len(text))\n",
    "for i, t in enumerate(text):\n",
    "    tokens = [ps.stem(_) for _ in word_tokenize(t)]\n",
    "    TF[i] = tokens.count(query_word)\n",
    "\n",
    "sort_index = np.argsort(-TF)\n",
    "for i in range(5):\n",
    "    print('{}. {} (TF={:})'.format(i+1, title[sort_index[i]], TF[sort_index[i]]))"
   ]
  }
 ],
 "metadata": {
  "kernelspec": {
   "display_name": "Python 3",
   "language": "python",
   "name": "python3"
  },
  "language_info": {
   "codemirror_mode": {
    "name": "ipython",
    "version": 3
   },
   "file_extension": ".py",
   "mimetype": "text/x-python",
   "name": "python",
   "nbconvert_exporter": "python",
   "pygments_lexer": "ipython3",
   "version": "3.8.8"
  }
 },
 "nbformat": 4,
 "nbformat_minor": 4
}
